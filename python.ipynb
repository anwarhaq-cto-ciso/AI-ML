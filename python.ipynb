{
  "nbformat": 4,
  "nbformat_minor": 0,
  "metadata": {
    "colab": {
      "provenance": [],
      "authorship_tag": "ABX9TyOuB6HzGoB1LpQjjheUFLkH",
      "include_colab_link": true
    },
    "kernelspec": {
      "name": "python3",
      "display_name": "Python 3"
    },
    "language_info": {
      "name": "python"
    }
  },
  "cells": [
    {
      "cell_type": "markdown",
      "metadata": {
        "id": "view-in-github",
        "colab_type": "text"
      },
      "source": [
        "<a href=\"https://colab.research.google.com/github/anwarhaq-cto-ciso/AI-ML/blob/main/python.ipynb\" target=\"_parent\"><img src=\"https://colab.research.google.com/assets/colab-badge.svg\" alt=\"Open In Colab\"/></a>"
      ]
    },
    {
      "cell_type": "markdown",
      "source": [
        "## Intro to Python Language"
      ],
      "metadata": {
        "id": "_cZ0hflWLTlt"
      }
    },
    {
      "cell_type": "code",
      "execution_count": 1,
      "metadata": {
        "colab": {
          "base_uri": "https://localhost:8080/"
        },
        "id": "E_mLVqZwKwuX",
        "outputId": "2d2fe281-60db-49be-ccf6-d0750e2ec035"
      },
      "outputs": [
        {
          "output_type": "stream",
          "name": "stdout",
          "text": [
            "Hello World\n"
          ]
        }
      ],
      "source": [
        "# Python is case sensitive\n",
        "print(\"Hello World\")"
      ]
    },
    {
      "cell_type": "code",
      "source": [
        "# It throws an error becuse string is always in \" \"\n",
        "print(Hi There)"
      ],
      "metadata": {
        "colab": {
          "base_uri": "https://localhost:8080/",
          "height": 106
        },
        "id": "s0MyJKAFLlfy",
        "outputId": "7a570800-c7f1-4406-c296-5ac77f1f4dae"
      },
      "execution_count": 2,
      "outputs": [
        {
          "output_type": "error",
          "ename": "SyntaxError",
          "evalue": "invalid syntax. Perhaps you forgot a comma? (<ipython-input-2-d634fcc9924a>, line 2)",
          "traceback": [
            "\u001b[0;36m  File \u001b[0;32m\"<ipython-input-2-d634fcc9924a>\"\u001b[0;36m, line \u001b[0;32m2\u001b[0m\n\u001b[0;31m    print(Hi There)\u001b[0m\n\u001b[0m          ^\u001b[0m\n\u001b[0;31mSyntaxError\u001b[0m\u001b[0;31m:\u001b[0m invalid syntax. Perhaps you forgot a comma?\n"
          ]
        }
      ]
    },
    {
      "cell_type": "code",
      "source": [
        "print(7)"
      ],
      "metadata": {
        "id": "fUPD0iJoL_VH"
      },
      "execution_count": null,
      "outputs": []
    },
    {
      "cell_type": "code",
      "source": [
        "print(True)"
      ],
      "metadata": {
        "id": "FLSAmwldMDD0",
        "colab": {
          "base_uri": "https://localhost:8080/"
        },
        "outputId": "0a9b9e7a-dd77-48a4-9747-bfc21731ac5b"
      },
      "execution_count": 3,
      "outputs": [
        {
          "output_type": "stream",
          "name": "stdout",
          "text": [
            "True\n"
          ]
        }
      ]
    },
    {
      "cell_type": "code",
      "source": [
        "# how print function strng in python\n",
        "print('Hello', 3, 4, 5, True)"
      ],
      "metadata": {
        "id": "goUFfBMLMFHq",
        "colab": {
          "base_uri": "https://localhost:8080/"
        },
        "outputId": "02f790df-4422-465d-e546-dfedd427fc8e"
      },
      "execution_count": 4,
      "outputs": [
        {
          "output_type": "stream",
          "name": "stdout",
          "text": [
            "Hello 3 4 5 True\n"
          ]
        }
      ]
    },
    {
      "cell_type": "code",
      "source": [
        "# Seperator function (sep)\n",
        "print('Hello', 3, 4, 5, True, sep='/')"
      ],
      "metadata": {
        "id": "kBfU6RP1MZXU",
        "colab": {
          "base_uri": "https://localhost:8080/"
        },
        "outputId": "e7c8a946-3094-4308-a878-2b600d5b2f1a"
      },
      "execution_count": 5,
      "outputs": [
        {
          "output_type": "stream",
          "name": "stdout",
          "text": [
            "Hello/3/4/5/True\n"
          ]
        }
      ]
    },
    {
      "cell_type": "code",
      "source": [
        "print(\"You\", end=\"=\")\n",
        "print(\"Me\")"
      ],
      "metadata": {
        "id": "6oCf4ka9Mm59",
        "colab": {
          "base_uri": "https://localhost:8080/"
        },
        "outputId": "240b4af9-f91e-41ea-a81f-765044472856"
      },
      "execution_count": 6,
      "outputs": [
        {
          "output_type": "stream",
          "name": "stdout",
          "text": [
            "You=Me\n"
          ]
        }
      ]
    },
    {
      "cell_type": "markdown",
      "source": [
        "### Data Types"
      ],
      "metadata": {
        "id": "Ez_VBARvMswU"
      }
    },
    {
      "cell_type": "code",
      "source": [
        "# Integers\n",
        "print(5)"
      ],
      "metadata": {
        "id": "JNhIbiQ4NGDI",
        "colab": {
          "base_uri": "https://localhost:8080/"
        },
        "outputId": "531dd15f-327a-44ac-e9e9-f84639fd99e7"
      },
      "execution_count": 7,
      "outputs": [
        {
          "output_type": "stream",
          "name": "stdout",
          "text": [
            "5\n"
          ]
        }
      ]
    },
    {
      "cell_type": "code",
      "source": [
        "# Floats\n",
        "print(6.6)"
      ],
      "metadata": {
        "id": "jECK9hwdNcGG",
        "colab": {
          "base_uri": "https://localhost:8080/"
        },
        "outputId": "ae05062d-59c1-44e2-a9fb-3d64bed0f2b8"
      },
      "execution_count": 8,
      "outputs": [
        {
          "output_type": "stream",
          "name": "stdout",
          "text": [
            "6.6\n"
          ]
        }
      ]
    },
    {
      "cell_type": "code",
      "source": [
        "# Boolean\n",
        "print(True,False)"
      ],
      "metadata": {
        "id": "fBixj1wBNe1B",
        "colab": {
          "base_uri": "https://localhost:8080/"
        },
        "outputId": "c332cec4-6875-4561-f2f1-ee92d714027b"
      },
      "execution_count": 9,
      "outputs": [
        {
          "output_type": "stream",
          "name": "stdout",
          "text": [
            "True False\n"
          ]
        }
      ]
    },
    {
      "cell_type": "code",
      "source": [
        "# String\n",
        "print(\"This is a string\")"
      ],
      "metadata": {
        "id": "zzTT5ArqNlDr",
        "colab": {
          "base_uri": "https://localhost:8080/"
        },
        "outputId": "44848d64-2d9b-46df-e8e6-fd8831a1f681"
      },
      "execution_count": 10,
      "outputs": [
        {
          "output_type": "stream",
          "name": "stdout",
          "text": [
            "This is a string\n"
          ]
        }
      ]
    },
    {
      "cell_type": "code",
      "source": [
        "# Complex numbers\n",
        "print(5 + 6j)"
      ],
      "metadata": {
        "id": "3QDBos7WNq9S",
        "colab": {
          "base_uri": "https://localhost:8080/"
        },
        "outputId": "a00ad023-22b7-466f-cd4c-f47e9b41ebda"
      },
      "execution_count": 11,
      "outputs": [
        {
          "output_type": "stream",
          "name": "stdout",
          "text": [
            "(5+6j)\n"
          ]
        }
      ]
    },
    {
      "cell_type": "code",
      "source": [
        "# List\n",
        "print([1,2,3,4,5])"
      ],
      "metadata": {
        "id": "cZ6e0JOjNxU_",
        "colab": {
          "base_uri": "https://localhost:8080/"
        },
        "outputId": "32a37d0d-7479-4e12-db12-7018ae99ee2c"
      },
      "execution_count": 12,
      "outputs": [
        {
          "output_type": "stream",
          "name": "stdout",
          "text": [
            "[1, 2, 3, 4, 5]\n"
          ]
        }
      ]
    },
    {
      "cell_type": "code",
      "source": [
        "# Tuple\n",
        "print((1,2,3,4,5))"
      ],
      "metadata": {
        "colab": {
          "base_uri": "https://localhost:8080/"
        },
        "id": "x-iBWbT3N2cI",
        "outputId": "10611a40-d2f7-489f-9df4-85530b35e4a7"
      },
      "execution_count": 13,
      "outputs": [
        {
          "output_type": "stream",
          "name": "stdout",
          "text": [
            "(1, 2, 3, 4, 5)\n"
          ]
        }
      ]
    },
    {
      "cell_type": "code",
      "source": [
        "# Sets\n",
        "print({1,2,3,4,5})"
      ],
      "metadata": {
        "colab": {
          "base_uri": "https://localhost:8080/"
        },
        "id": "qpH13z5IRf1V",
        "outputId": "db69b174-5360-4902-ff98-eed75b030c00"
      },
      "execution_count": 14,
      "outputs": [
        {
          "output_type": "stream",
          "name": "stdout",
          "text": [
            "{1, 2, 3, 4, 5}\n"
          ]
        }
      ]
    },
    {
      "cell_type": "code",
      "source": [
        "#Dictionary\n",
        "print({\"Name\":\"John\",\"Age\":30})"
      ],
      "metadata": {
        "colab": {
          "base_uri": "https://localhost:8080/"
        },
        "id": "WBl8nGqQRzXr",
        "outputId": "4c773859-ac68-4041-e45a-61cc98ca2ad5"
      },
      "execution_count": 15,
      "outputs": [
        {
          "output_type": "stream",
          "name": "stdout",
          "text": [
            "{'Name': 'John', 'Age': 30}\n"
          ]
        }
      ]
    },
    {
      "cell_type": "code",
      "source": [
        "# How do you know which type of datatype is?\n",
        "type([1,2,3,4]), type({\"Name\": \"Allan\"})"
      ],
      "metadata": {
        "colab": {
          "base_uri": "https://localhost:8080/"
        },
        "id": "YEZs6pNMR4rh",
        "outputId": "e1233d9e-7461-4d24-f554-979aa4f6f327"
      },
      "execution_count": 16,
      "outputs": [
        {
          "output_type": "execute_result",
          "data": {
            "text/plain": [
              "(list, dict)"
            ]
          },
          "metadata": {},
          "execution_count": 16
        }
      ]
    },
    {
      "cell_type": "code",
      "source": [
        "# Varialbles\n",
        "x = 5\n",
        "name = \"John\"\n",
        "print(x,name)"
      ],
      "metadata": {
        "id": "MNJnNRxlSNQb",
        "colab": {
          "base_uri": "https://localhost:8080/"
        },
        "outputId": "af55295b-a440-45f2-c534-f41875a1ea78"
      },
      "execution_count": 17,
      "outputs": [
        {
          "output_type": "stream",
          "name": "stdout",
          "text": [
            "5 John\n"
          ]
        }
      ]
    },
    {
      "cell_type": "code",
      "source": [
        "# Multiple assignments\n",
        "a, b, c, = 1, 2, 3"
      ],
      "metadata": {
        "id": "YrKgDmkc9cKb"
      },
      "execution_count": 18,
      "outputs": []
    },
    {
      "cell_type": "code",
      "source": [
        "print(a,c)"
      ],
      "metadata": {
        "colab": {
          "base_uri": "https://localhost:8080/"
        },
        "id": "3uWFJqUS9kh8",
        "outputId": "350e105a-f8f2-4993-aafe-9a3723eee5df"
      },
      "execution_count": 20,
      "outputs": [
        {
          "output_type": "stream",
          "name": "stdout",
          "text": [
            "1 3\n"
          ]
        }
      ]
    },
    {
      "cell_type": "code",
      "source": [
        "# Multiple Assignments\n",
        "a=b=c=5\n",
        "print(a,b,c)"
      ],
      "metadata": {
        "colab": {
          "base_uri": "https://localhost:8080/"
        },
        "id": "JRTIWB2B9nM6",
        "outputId": "b5efcb74-23d8-4192-a8a9-1ed10224a6c7"
      },
      "execution_count": 21,
      "outputs": [
        {
          "output_type": "stream",
          "name": "stdout",
          "text": [
            "5 5 5\n"
          ]
        }
      ]
    },
    {
      "cell_type": "code",
      "source": [
        "# This is a single line comment"
      ],
      "metadata": {
        "id": "jOYVzkOz9xUG"
      },
      "execution_count": 24,
      "outputs": []
    },
    {
      "cell_type": "code",
      "source": [
        "'''\n",
        "This is a multi-line comment,\n",
        "It can spane Multiple lines.\n",
        "'''"
      ],
      "metadata": {
        "colab": {
          "base_uri": "https://localhost:8080/",
          "height": 35
        },
        "id": "7bd0H2fn-Dpy",
        "outputId": "a1e469c4-3cf6-429f-ab9c-400c9ab31995"
      },
      "execution_count": 27,
      "outputs": [
        {
          "output_type": "execute_result",
          "data": {
            "text/plain": [
              "'\\nThis is a multi-line comment,\\nIt can spane Multiple lines.\\n'"
            ],
            "application/vnd.google.colaboratory.intrinsic+json": {
              "type": "string"
            }
          },
          "metadata": {},
          "execution_count": 27
        }
      ]
    },
    {
      "cell_type": "code",
      "source": [
        "# User Input\n",
        "input('Enter Email')"
      ],
      "metadata": {
        "colab": {
          "base_uri": "https://localhost:8080/",
          "height": 53
        },
        "id": "pBUTQkM4-UhC",
        "outputId": "96c401af-4e81-42c8-da90-4ef7c6a18c83"
      },
      "execution_count": 28,
      "outputs": [
        {
          "name": "stdout",
          "output_type": "stream",
          "text": [
            "Enter Emailtest@mail.com\n"
          ]
        },
        {
          "output_type": "execute_result",
          "data": {
            "text/plain": [
              "'test@mail.com'"
            ],
            "application/vnd.google.colaboratory.intrinsic+json": {
              "type": "string"
            }
          },
          "metadata": {},
          "execution_count": 28
        }
      ]
    },
    {
      "cell_type": "code",
      "source": [
        "# Take input from user and store in a variable\n",
        "fNum = int(input('Enter First Number'))\n",
        "sNum = int(input('Enter Second Number'))\n",
        "result = fNum + sNum\n",
        "print(result)\n",
        "print(type(fNum))"
      ],
      "metadata": {
        "colab": {
          "base_uri": "https://localhost:8080/"
        },
        "id": "sy1imSMg-yfX",
        "outputId": "62076f80-fd45-44a9-c472-d9098f1b0160"
      },
      "execution_count": 29,
      "outputs": [
        {
          "output_type": "stream",
          "name": "stdout",
          "text": [
            "Enter First Number45\n",
            "Enter Second Number45\n",
            "90\n",
            "<class 'int'>\n"
          ]
        }
      ]
    },
    {
      "cell_type": "code",
      "source": [
        "int_value = 42\n",
        "float_value = float(int_value)\n",
        "print(float_value)\n",
        "string_value = \"Hello, World!\"\n",
        "boolean_value = True"
      ],
      "metadata": {
        "colab": {
          "base_uri": "https://localhost:8080/"
        },
        "id": "R1ET-3QWAg2T",
        "outputId": "fdae34c1-21a8-4f0b-c34e-b35c92c06c4f"
      },
      "execution_count": 31,
      "outputs": [
        {
          "output_type": "stream",
          "name": "stdout",
          "text": [
            "42.0\n"
          ]
        }
      ]
    },
    {
      "cell_type": "code",
      "source": [
        "a = 23\n",
        "b =\"24\"\n",
        "print(float(a) + float(b))"
      ],
      "metadata": {
        "colab": {
          "base_uri": "https://localhost:8080/"
        },
        "id": "aVACws73A3a0",
        "outputId": "70f459cc-d118-411c-d2f0-d3b755f19519"
      },
      "execution_count": 32,
      "outputs": [
        {
          "output_type": "stream",
          "name": "stdout",
          "text": [
            "47.0\n"
          ]
        }
      ]
    },
    {
      "cell_type": "code",
      "source": [
        "a = 0b1010 #Binary Literals\n",
        "b = 100 #Decimal Literal\n",
        "c = 0o310 #Octal Literal\n",
        "d = 0x12c #Hexadecimal Literal\n",
        "#Float Literal\n",
        "float_1 = 10.5\n",
        "float_2 = 1.5e2 # 1.5 * 10^2\n",
        "float_3 = 1.5e-3 # 1.5 * 10^-3\n",
        "#Complex Literal\n",
        "x = 3.14j\n",
        "print(a, b, c, d)\n",
        "print(float_1, float_2,float_3)\n",
        "print(x, x.imag, x.real)"
      ],
      "metadata": {
        "colab": {
          "base_uri": "https://localhost:8080/"
        },
        "id": "KFTkYK0KBI9r",
        "outputId": "138ae94d-f7d0-4b9b-8b55-f3e91b7eec8c"
      },
      "execution_count": 33,
      "outputs": [
        {
          "output_type": "stream",
          "name": "stdout",
          "text": [
            "10 100 200 300\n",
            "10.5 150.0 0.0015\n",
            "3.14j 3.14 0.0\n"
          ]
        }
      ]
    },
    {
      "cell_type": "code",
      "source": [
        "#binary\n",
        "x = 3.14j\n",
        "print(x.imag)"
      ],
      "metadata": {
        "colab": {
          "base_uri": "https://localhost:8080/"
        },
        "id": "hB3GYSdiBZsT",
        "outputId": "b151c744-da9f-4888-ea9a-41b978084c95"
      },
      "execution_count": 35,
      "outputs": [
        {
          "output_type": "stream",
          "name": "stdout",
          "text": [
            "3.14\n"
          ]
        }
      ]
    },
    {
      "cell_type": "code",
      "source": [
        "string = 'This is Python'\n",
        "strings = \"This is Python\"\n",
        "char = \"C\"\n",
        "multiline_str = \"\"\"This is a multiline string with more than one line code.\"\"\"\n",
        "unicode = u\"\\U0001f600\\U0001F606\\U0001F923\"\n",
        "raw_str = r\"raw \\n string\"\n",
        "print(string)\n",
        "print(strings)\n",
        "print(char)\n",
        "print(multiline_str)\n",
        "print(unicode)\n",
        "print(raw_str)"
      ],
      "metadata": {
        "colab": {
          "base_uri": "https://localhost:8080/"
        },
        "id": "QKrYtOGyBc-1",
        "outputId": "35a1bd4f-6dae-4848-dbd5-d4c633a16faa"
      },
      "execution_count": 36,
      "outputs": [
        {
          "output_type": "stream",
          "name": "stdout",
          "text": [
            "This is Python\n",
            "This is Python\n",
            "C\n",
            "This is a multiline string with more than one line code.\n",
            "😀😆🤣\n",
            "raw \\n string\n"
          ]
        }
      ]
    },
    {
      "cell_type": "code",
      "source": [
        "print(5+6) # Addtion -> adding the numbers\n",
        "print(5-6) # subtraction-> subtract the number\n",
        "print(5*6) # Multiplication -> Multiply the number\n",
        "print(5/2) # Divsion -> Divide the numnber\n",
        "print(5//2) # Floor Division -> It trasform into integer number= 2.5 convert into 2\n",
        "print(5%2) # Modulus -> It Provides remainder of the Divsion\n",
        "print(5**2) # Exponential -> raising a number to a certain power.(raised to power)"
      ],
      "metadata": {
        "colab": {
          "base_uri": "https://localhost:8080/"
        },
        "id": "Wtn1pyQHBhGv",
        "outputId": "9f4a7ed0-5a33-4860-efbc-7c7e65fa9afe"
      },
      "execution_count": 37,
      "outputs": [
        {
          "output_type": "stream",
          "name": "stdout",
          "text": [
            "11\n",
            "-1\n",
            "30\n",
            "2.5\n",
            "2\n",
            "1\n",
            "25\n"
          ]
        }
      ]
    },
    {
      "cell_type": "code",
      "source": [
        "# Comparison\n",
        "print(4==4)\n",
        "print(4!=4)\n",
        "print(4<5)\n",
        "print(4>5)\n",
        "print(4<=4)"
      ],
      "metadata": {
        "colab": {
          "base_uri": "https://localhost:8080/"
        },
        "id": "tn1RAy2QBt58",
        "outputId": "c5aec587-d22d-4e2c-cccc-5209d1f0cc7e"
      },
      "execution_count": 38,
      "outputs": [
        {
          "output_type": "stream",
          "name": "stdout",
          "text": [
            "True\n",
            "False\n",
            "True\n",
            "False\n",
            "True\n"
          ]
        }
      ]
    },
    {
      "cell_type": "code",
      "source": [
        "p = True\n",
        "q = False\n",
        "print(p and q) # true and false -> 1 and 0 = 0\n",
        "print(p or q) # true or false -> 1 or 0 = 1\n",
        "print(not p)"
      ],
      "metadata": {
        "colab": {
          "base_uri": "https://localhost:8080/"
        },
        "id": "wMSlIcL7B22x",
        "outputId": "8f06ee38-a57c-421a-c107-f9276d7b8d53"
      },
      "execution_count": 39,
      "outputs": [
        {
          "output_type": "stream",
          "name": "stdout",
          "text": [
            "False\n",
            "True\n",
            "False\n"
          ]
        }
      ]
    },
    {
      "cell_type": "code",
      "source": [
        "x = 10\n",
        "x += 5\n",
        "print(x) # Equivalent to x = x + 5"
      ],
      "metadata": {
        "colab": {
          "base_uri": "https://localhost:8080/"
        },
        "id": "egtBHLQ7CQ1F",
        "outputId": "7a7c90a0-a287-4338-ef7f-e4f1752e1ad9"
      },
      "execution_count": 40,
      "outputs": [
        {
          "output_type": "stream",
          "name": "stdout",
          "text": [
            "15\n"
          ]
        }
      ]
    },
    {
      "cell_type": "code",
      "source": [
        "x = 10\n",
        "x -= 3 # Equivalent to x = x - 3\n",
        "x *= 2 # Equivalent to x = x * 2\n",
        "x /= 4 # Equivalent to x = x / 4\n",
        "x //= 2 # Equivalent to x = x // 2\n",
        "x %= 3 # Equivalent to x = x % 3\n",
        "x **= 2 # Equivalent to x = x ** 2"
      ],
      "metadata": {
        "id": "5qThzYSuCcdv"
      },
      "execution_count": 41,
      "outputs": []
    },
    {
      "cell_type": "code",
      "source": [
        "# Bitwise Operations\n",
        "m = 5 # 101 in binary\n",
        "n = 3 # 011 in binary\n",
        "bitwise_and = m & n # 001 (1 in decimal)\n",
        "print(bitwise_and)\n",
        "bitwise_or = m | n # 111 (7 in decimal)\n",
        "print(bitwise_or)\n",
        "bitwise_xor = m ^ n # 110 (6 in decimal)\n",
        "print(bitwise_xor)\n",
        "bitwise_not_m = ~m # -6 (in decimal)\n",
        "print(bitwise_not_m)\n",
        "left_shift = m << 1 # 010 (2 in decimal)\n",
        "print(left_shift)\n",
        "right_shift = m >> 1 # 010 (2 in decimal)\n",
        "print(right_shift)"
      ],
      "metadata": {
        "colab": {
          "base_uri": "https://localhost:8080/"
        },
        "id": "EaGc5dkFCehl",
        "outputId": "6c600f7f-b1c7-49d3-edca-f6167a2b1eb6"
      },
      "execution_count": 43,
      "outputs": [
        {
          "output_type": "stream",
          "name": "stdout",
          "text": [
            "1\n",
            "7\n",
            "6\n",
            "-6\n",
            "10\n",
            "2\n"
          ]
        }
      ]
    },
    {
      "cell_type": "code",
      "source": [
        "# For loop\n",
        "for i in range(1,11):\n",
        "    print(i)"
      ],
      "metadata": {
        "colab": {
          "base_uri": "https://localhost:8080/"
        },
        "id": "N1Uhdxg6CnRy",
        "outputId": "22c02d9c-4eb1-45d3-b5b8-7a3cd0de3682"
      },
      "execution_count": 44,
      "outputs": [
        {
          "output_type": "stream",
          "name": "stdout",
          "text": [
            "1\n",
            "2\n",
            "3\n",
            "4\n",
            "5\n",
            "6\n",
            "7\n",
            "8\n",
            "9\n",
            "10\n"
          ]
        }
      ]
    },
    {
      "cell_type": "code",
      "source": [
        "# for loop\n",
        "curr_pop = 10000\n",
        "for i in range (10, 0, -1):\n",
        "  print(i, curr_pop)\n",
        "  curr_pop = curr_pop/1.1"
      ],
      "metadata": {
        "colab": {
          "base_uri": "https://localhost:8080/"
        },
        "id": "yCtfVjT4C4db",
        "outputId": "fb146377-d4cc-44af-a49d-362f36196808"
      },
      "execution_count": 45,
      "outputs": [
        {
          "output_type": "stream",
          "name": "stdout",
          "text": [
            "10 10000\n",
            "9 9090.90909090909\n",
            "8 8264.462809917353\n",
            "7 7513.148009015775\n",
            "6 6830.134553650703\n",
            "5 6209.213230591548\n",
            "4 5644.739300537771\n",
            "3 5131.5811823070635\n",
            "2 4665.07380209733\n",
            "1 4240.976183724845\n"
          ]
        }
      ]
    },
    {
      "cell_type": "code",
      "source": [
        "# while loop\n",
        "count = 1\n",
        "while count <= 5:\n",
        "    print(count)\n",
        "    count += 1"
      ],
      "metadata": {
        "colab": {
          "base_uri": "https://localhost:8080/"
        },
        "id": "BLbg_MTRDerz",
        "outputId": "632a2c64-e88f-4a8b-b9bd-2c9793d464ea"
      },
      "execution_count": 46,
      "outputs": [
        {
          "output_type": "stream",
          "name": "stdout",
          "text": [
            "1\n",
            "2\n",
            "3\n",
            "4\n",
            "5\n"
          ]
        }
      ]
    },
    {
      "cell_type": "code",
      "source": [
        "# Program\n",
        "num = int(input('Enter a number'))\n",
        "i = 1\n",
        "while i < 11:\n",
        "    print(num, '*', i, '=', num * i)\n",
        "    i += 1"
      ],
      "metadata": {
        "colab": {
          "base_uri": "https://localhost:8080/"
        },
        "id": "RavCPnNfDxLu",
        "outputId": "d5072847-7f5f-4931-8593-af189cb4ef01"
      },
      "execution_count": 47,
      "outputs": [
        {
          "output_type": "stream",
          "name": "stdout",
          "text": [
            "Enter a number11\n",
            "11 * 1 = 11\n",
            "11 * 2 = 22\n",
            "11 * 3 = 33\n",
            "11 * 4 = 44\n",
            "11 * 5 = 55\n",
            "11 * 6 = 66\n",
            "11 * 7 = 77\n",
            "11 * 8 = 88\n",
            "11 * 9 = 99\n",
            "11 * 10 = 110\n"
          ]
        }
      ]
    },
    {
      "cell_type": "code",
      "source": [
        "# Break and Continue statments\n",
        "numbers = [1, 2, 3, 4, 5, 6, 7, 8, 9, 10]\n",
        "for num in numbers:\n",
        "  if num == 6:\n",
        "    break # Exit the loop when num equals 6\n",
        "  print(num)\n",
        "print(\"Loop ended\")"
      ],
      "metadata": {
        "colab": {
          "base_uri": "https://localhost:8080/"
        },
        "id": "7JaOPN-4D5Uy",
        "outputId": "b274738e-5fd2-4a67-f3b5-9188b5d93aac"
      },
      "execution_count": 51,
      "outputs": [
        {
          "output_type": "stream",
          "name": "stdout",
          "text": [
            "1\n",
            "2\n",
            "3\n",
            "4\n",
            "5\n",
            "Loop ended\n"
          ]
        }
      ]
    },
    {
      "cell_type": "code",
      "source": [
        "# Using continue\n",
        "numbers = [1, 2, 3, 4, 5]\n",
        "for num in numbers:\n",
        "  if num == 3:\n",
        "    continue # Skip printing 3 and continue with the next iteration\n",
        "  print(num)\n",
        "print(\"Loop ended\")"
      ],
      "metadata": {
        "colab": {
          "base_uri": "https://localhost:8080/"
        },
        "id": "ivzwsAROEYw_",
        "outputId": "a8ce1099-9eaa-4480-e8dc-2825cca34f6b"
      },
      "execution_count": 52,
      "outputs": [
        {
          "output_type": "stream",
          "name": "stdout",
          "text": [
            "1\n",
            "2\n",
            "4\n",
            "5\n",
            "Loop ended\n"
          ]
        }
      ]
    },
    {
      "cell_type": "code",
      "source": [
        "# create string with the help of single quotes\n",
        "s = 'Hello World'\n",
        "print(s)"
      ],
      "metadata": {
        "colab": {
          "base_uri": "https://localhost:8080/"
        },
        "id": "prfrMiRLEyRc",
        "outputId": "79c59ec2-b1f2-49aa-d80e-aa1471c84913"
      },
      "execution_count": 53,
      "outputs": [
        {
          "output_type": "stream",
          "name": "stdout",
          "text": [
            "Hello World\n"
          ]
        }
      ]
    },
    {
      "cell_type": "code",
      "source": [
        "single_quoted_string = 'He said, \"Hello!\"'\n",
        "double_quoted_string = \"He said, 'Hello!'\"\n",
        "# here we use single and double quotes\n",
        "print(single_quoted_string)\n",
        "print(double_quoted_string)"
      ],
      "metadata": {
        "colab": {
          "base_uri": "https://localhost:8080/"
        },
        "id": "VIbhPvP_FB4a",
        "outputId": "2a1632ef-3039-4253-9a10-9ce2bed213aa"
      },
      "execution_count": 54,
      "outputs": [
        {
          "output_type": "stream",
          "name": "stdout",
          "text": [
            "He said, \"Hello!\"\n",
            "He said, 'Hello!'\n"
          ]
        }
      ]
    },
    {
      "cell_type": "code",
      "source": [
        "# multiline strings\n",
        "s = '''hello'''\n",
        "s = \"\"\"hello\"\"\"\n",
        "s = str('hello')\n",
        "print(s)"
      ],
      "metadata": {
        "colab": {
          "base_uri": "https://localhost:8080/"
        },
        "id": "RYknbjIDFEx5",
        "outputId": "6e52a36b-9916-4a7c-f231-88d7f22b8219"
      },
      "execution_count": 55,
      "outputs": [
        {
          "output_type": "stream",
          "name": "stdout",
          "text": [
            "hello\n"
          ]
        }
      ]
    },
    {
      "cell_type": "code",
      "source": [
        "# String[start:end]\n",
        "s = 'hello world'\n",
        "print(s[1:5]) # from 1 index that is e to 4 index=o\n",
        "print(s[:6]) # from 0 to 5\n",
        "print(s[1:]) # from 1 to all\n",
        "print(s[:]) # all string\n",
        "print(s[-5:-1]) # with negative slicing"
      ],
      "metadata": {
        "colab": {
          "base_uri": "https://localhost:8080/"
        },
        "id": "8E7FVzYoFHsp",
        "outputId": "e4a982f8-81a8-4232-b953-d0061744398f"
      },
      "execution_count": 56,
      "outputs": [
        {
          "output_type": "stream",
          "name": "stdout",
          "text": [
            "ello\n",
            "hello \n",
            "ello world\n",
            "hello world\n",
            "worl\n"
          ]
        }
      ]
    },
    {
      "cell_type": "code",
      "source": [
        "s = \"Hello World\"\n",
        "# Accessing individual characters using positive indexing\n",
        "print(s[0]) # Accesses the first character, 'H'\n",
        "print(s[1]) # Accesses the second character, 'e'\n",
        "# Accessing individual characters using negative indexing (counting from the end)\n",
        "print(s[-1]) # Accesses the last character, 'd'\n",
        "print(s[-2]) # Accesses the second-to-last character, 'l'"
      ],
      "metadata": {
        "colab": {
          "base_uri": "https://localhost:8080/"
        },
        "id": "I84m5rn3FZ1p",
        "outputId": "80411e74-f823-41c0-fcd0-80425d0af967"
      },
      "execution_count": 58,
      "outputs": [
        {
          "output_type": "stream",
          "name": "stdout",
          "text": [
            "H\n",
            "e\n",
            "d\n",
            "l\n"
          ]
        }
      ]
    },
    {
      "cell_type": "code",
      "source": [
        "# we use step function in slicing\n",
        "s = 'hello world'\n",
        "print(s[6:0:-2])\n",
        "print(s[::-1])"
      ],
      "metadata": {
        "colab": {
          "base_uri": "https://localhost:8080/"
        },
        "id": "ZUrEH-wRFc1Y",
        "outputId": "4053a3d8-4a01-4045-face-bc9138128398"
      },
      "execution_count": 59,
      "outputs": [
        {
          "output_type": "stream",
          "name": "stdout",
          "text": [
            "wol\n",
            "dlrow olleh\n"
          ]
        }
      ]
    },
    {
      "cell_type": "code",
      "source": [
        "# Arithmatic opertion in string\n",
        "a = 'Hello'\n",
        "b = 'world'\n",
        "print(a + b)\n",
        "# if we want space\n",
        "print(a + \" \" + b)"
      ],
      "metadata": {
        "colab": {
          "base_uri": "https://localhost:8080/"
        },
        "id": "xQkdPqPrFjUJ",
        "outputId": "8d96b3c4-b289-46ed-ebc8-a40c41b32509"
      },
      "execution_count": 60,
      "outputs": [
        {
          "output_type": "stream",
          "name": "stdout",
          "text": [
            "Helloworld\n",
            "Hello world\n"
          ]
        }
      ]
    },
    {
      "cell_type": "code",
      "source": [
        "# how to print delhi 14 times\n",
        "print(\"delhi\"*14)\n",
        "print(\"*\"*50)"
      ],
      "metadata": {
        "colab": {
          "base_uri": "https://localhost:8080/"
        },
        "id": "YRzJgiCTFrvx",
        "outputId": "df1c4c28-1e84-4dfe-c096-db3728988b49"
      },
      "execution_count": 61,
      "outputs": [
        {
          "output_type": "stream",
          "name": "stdout",
          "text": [
            "delhidelhidelhidelhidelhidelhidelhidelhidelhidelhidelhidelhidelhidelhi\n",
            "**************************************************\n"
          ]
        }
      ]
    },
    {
      "cell_type": "code",
      "source": [
        "text = \"Hello, World!\"\n",
        "uppercase_text = text.upper() # Convert to uppercase\n",
        "print(uppercase_text)"
      ],
      "metadata": {
        "colab": {
          "base_uri": "https://localhost:8080/"
        },
        "id": "eLqDOd_yFvnp",
        "outputId": "365db92f-684e-49b7-8227-1db8dacdaffb"
      },
      "execution_count": 62,
      "outputs": [
        {
          "output_type": "stream",
          "name": "stdout",
          "text": [
            "HELLO, WORLD!\n"
          ]
        }
      ]
    },
    {
      "cell_type": "code",
      "source": [
        "lowercase_text = text.lower() # Convert to lowercase\n",
        "print(lowercase_text)"
      ],
      "metadata": {
        "colab": {
          "base_uri": "https://localhost:8080/"
        },
        "id": "tVDRdz69G3IY",
        "outputId": "adaae1fb-0ef0-4bae-b088-d8f6aa3b5e23"
      },
      "execution_count": 63,
      "outputs": [
        {
          "output_type": "stream",
          "name": "stdout",
          "text": [
            "hello, world!\n"
          ]
        }
      ]
    },
    {
      "cell_type": "code",
      "source": [
        "index = text.find(\"World\") # Find the index of a substring\n",
        "print(index)\n",
        "new_text = text.replace(\"Hello\", \"Hi\") # Replace a substring\n",
        "print(new_text)\n"
      ],
      "metadata": {
        "colab": {
          "base_uri": "https://localhost:8080/"
        },
        "id": "2fDr0YnmG5rP",
        "outputId": "a40ae840-8ac6-4fdc-989e-e5d2b54eb18e"
      },
      "execution_count": 64,
      "outputs": [
        {
          "output_type": "stream",
          "name": "stdout",
          "text": [
            "7\n",
            "Hi, World!\n"
          ]
        }
      ]
    },
    {
      "cell_type": "code",
      "source": [
        "name = 'nitish'\n",
        "gender = 'male'\n",
        "'Hi my name is {} and I am a {}'.format(name,gender)"
      ],
      "metadata": {
        "colab": {
          "base_uri": "https://localhost:8080/",
          "height": 35
        },
        "id": "0AyjWn1cHHz8",
        "outputId": "e3bad18c-995a-4d31-a74f-ae0b7eac93bd"
      },
      "execution_count": 65,
      "outputs": [
        {
          "output_type": "execute_result",
          "data": {
            "text/plain": [
              "'Hi my name is nitish and I am a male'"
            ],
            "application/vnd.google.colaboratory.intrinsic+json": {
              "type": "string"
            }
          },
          "metadata": {},
          "execution_count": 65
        }
      ]
    },
    {
      "cell_type": "code",
      "source": [
        "'hi my name is KHAN '.split()"
      ],
      "metadata": {
        "colab": {
          "base_uri": "https://localhost:8080/"
        },
        "id": "w1kVeJBrHIhW",
        "outputId": "f9b97adc-872a-477d-b24b-48d4e01039de"
      },
      "execution_count": 67,
      "outputs": [
        {
          "output_type": "execute_result",
          "data": {
            "text/plain": [
              "['hi', 'my', 'name', 'is', 'KHAN']"
            ]
          },
          "metadata": {},
          "execution_count": 67
        }
      ]
    },
    {
      "cell_type": "code",
      "source": [
        "\" \".join(['hi', 'my', 'name', 'is', 'KHAN'])"
      ],
      "metadata": {
        "colab": {
          "base_uri": "https://localhost:8080/",
          "height": 35
        },
        "id": "pP-0SwnuHX-F",
        "outputId": "9a104a80-119c-4ddc-dc71-9a55bc7c16a7"
      },
      "execution_count": 68,
      "outputs": [
        {
          "output_type": "execute_result",
          "data": {
            "text/plain": [
              "'hi my name is KHAN'"
            ],
            "application/vnd.google.colaboratory.intrinsic+json": {
              "type": "string"
            }
          },
          "metadata": {},
          "execution_count": 68
        }
      ]
    },
    {
      "cell_type": "code",
      "source": [
        "text = \"Hello, World!\"\n",
        "length = len(text) # Returns the length of the string (13 in this case)\n",
        "print(length)"
      ],
      "metadata": {
        "colab": {
          "base_uri": "https://localhost:8080/"
        },
        "id": "NDuKJ1GbHbt8",
        "outputId": "1f8b4fdb-0ef2-4c53-f1ef-8c955ed2dd7a"
      },
      "execution_count": 69,
      "outputs": [
        {
          "output_type": "stream",
          "name": "stdout",
          "text": [
            "13\n"
          ]
        }
      ]
    },
    {
      "cell_type": "code",
      "source": [
        "'hey         '.strip() # it drop the Unwanted space prenet"
      ],
      "metadata": {
        "colab": {
          "base_uri": "https://localhost:8080/",
          "height": 35
        },
        "id": "FG6FEAQhHf76",
        "outputId": "9e61484c-b6c9-425e-b571-f315ea4ad3ae"
      },
      "execution_count": 71,
      "outputs": [
        {
          "output_type": "execute_result",
          "data": {
            "text/plain": [
              "'hey'"
            ],
            "application/vnd.google.colaboratory.intrinsic+json": {
              "type": "string"
            }
          },
          "metadata": {},
          "execution_count": 71
        }
      ]
    },
    {
      "cell_type": "code",
      "source": [
        "# How to create empty tuple\n",
        "t1 =()\n",
        "print(t1)\n",
        "# creating tuple with single item\n",
        "t2 = ('hello',)\n",
        "print(t2)\n",
        "print(type(t2))\n",
        "# homo\n",
        "t3 = (1,2,3,4,5)\n",
        "print(t3)\n",
        "# hetero\n",
        "t4 = (1,2.5,True,[1,2,3])\n",
        "print(t4)\n",
        "# tuple\n",
        "t5 = (1,2,3,(4,5))\n",
        "print(t5)\n",
        "# using type conversion\n",
        "t6 = tuple('hello')\n",
        "print(t6)"
      ],
      "metadata": {
        "colab": {
          "base_uri": "https://localhost:8080/"
        },
        "id": "5E8PKIcfHjnQ",
        "outputId": "1af8c42d-f605-4f3b-82db-f69f14094ea4"
      },
      "execution_count": 73,
      "outputs": [
        {
          "output_type": "stream",
          "name": "stdout",
          "text": [
            "()\n",
            "('hello',)\n",
            "<class 'tuple'>\n",
            "(1, 2, 3, 4, 5)\n",
            "(1, 2.5, True, [1, 2, 3])\n",
            "(1, 2, 3, (4, 5))\n",
            "('h', 'e', 'l', 'l', 'o')\n"
          ]
        }
      ]
    },
    {
      "cell_type": "code",
      "source": [
        "# + and *\n",
        "t1 = (1,2,3,4)\n",
        "t2 = (5,6,7,8)\n",
        "print(t1 + t2)\n",
        "# membership\n",
        "print(1 in t1)\n",
        "# iteration/loops\n",
        "for i in t3:\n",
        "  print(i)"
      ],
      "metadata": {
        "colab": {
          "base_uri": "https://localhost:8080/"
        },
        "id": "RrBLgxgSKR6h",
        "outputId": "78fd5f9e-21ae-4480-cffb-0cd5e6024a03"
      },
      "execution_count": 74,
      "outputs": [
        {
          "output_type": "stream",
          "name": "stdout",
          "text": [
            "(1, 2, 3, 4, 5, 6, 7, 8)\n",
            "True\n",
            "1\n",
            "2\n",
            "3\n",
            "4\n",
            "5\n"
          ]
        }
      ]
    },
    {
      "cell_type": "code",
      "source": [
        "# len/sum/min/max/sorted\n",
        "t = (1,2,3,4,5)\n",
        "print(len(t))\n",
        "print(sum(t))\n",
        "print(min(t))\n",
        "print(max(t))\n",
        "print(sorted(t))"
      ],
      "metadata": {
        "colab": {
          "base_uri": "https://localhost:8080/"
        },
        "id": "tVS5pqAUKagd",
        "outputId": "84da3da4-41d8-4408-f31d-d1580096a23f"
      },
      "execution_count": 75,
      "outputs": [
        {
          "output_type": "stream",
          "name": "stdout",
          "text": [
            "5\n",
            "15\n",
            "1\n",
            "5\n",
            "[1, 2, 3, 4, 5]\n"
          ]
        }
      ]
    },
    {
      "cell_type": "code",
      "source": [
        "# empty set\n",
        "s = set()\n",
        "print(s)\n",
        "print(type(s))\n",
        "# 1D and 2D\n",
        "s1 = {1,2,3}\n",
        "print(s1)\n",
        "s2 = {1,2,3,(4,5)}\n",
        "print(s2)\n",
        "# Homo and hetro\n",
        "s3 = {1,'hello',4.5,(1,2,3)}\n",
        "print(s3)\n",
        "# using type conversion\n",
        "s4 = set([1,2,3])\n",
        "print(s4)\n",
        "#duplicated not allowed\n",
        "s5 = {1,1,2,2,3}\n",
        "print(s5)"
      ],
      "metadata": {
        "colab": {
          "base_uri": "https://localhost:8080/"
        },
        "id": "2CQ0pFwGKcia",
        "outputId": "b045bd52-4fe6-4d28-85af-79c266a0114c"
      },
      "execution_count": 76,
      "outputs": [
        {
          "output_type": "stream",
          "name": "stdout",
          "text": [
            "set()\n",
            "<class 'set'>\n",
            "{1, 2, 3}\n",
            "{3, 1, (4, 5), 2}\n",
            "{1, (1, 2, 3), 'hello', 4.5}\n",
            "{1, 2, 3}\n",
            "{1, 2, 3}\n"
          ]
        }
      ]
    },
    {
      "cell_type": "code",
      "source": [
        "# del\n",
        "s= {1,2,3,4,5}\n",
        "del(s)\n",
        "# it complete delete set"
      ],
      "metadata": {
        "id": "Frn-5fpNKnNB"
      },
      "execution_count": 77,
      "outputs": []
    },
    {
      "cell_type": "code",
      "source": [
        "s1 = {1,2,3,4,5}\n",
        "s2 = {4,5,6,7,8}\n",
        "# union\n",
        "print(s1 | s2)\n",
        "# intersection\n",
        "print(s1 & s2)\n",
        "# Differences\n",
        "print(s1 - s2)\n",
        "print(s2 - s1)\n",
        "# symmetric diffrences\n",
        "print(s1 ^ s2)\n",
        "# membership test\n",
        "print(1 in s1)\n",
        "print(1 not in s1)\n",
        "# iteration\n",
        "for i in s1:\n",
        "  print(i)"
      ],
      "metadata": {
        "colab": {
          "base_uri": "https://localhost:8080/"
        },
        "id": "5Cd8HMXUKqgX",
        "outputId": "2802b242-c51b-4189-f41d-9ba3f7516a70"
      },
      "execution_count": 78,
      "outputs": [
        {
          "output_type": "stream",
          "name": "stdout",
          "text": [
            "{1, 2, 3, 4, 5, 6, 7, 8}\n",
            "{4, 5}\n",
            "{1, 2, 3}\n",
            "{8, 6, 7}\n",
            "{1, 2, 3, 6, 7, 8}\n",
            "True\n",
            "False\n",
            "1\n",
            "2\n",
            "3\n",
            "4\n",
            "5\n"
          ]
        }
      ]
    },
    {
      "cell_type": "code",
      "source": [
        "# len/sum/min/max/sorted\n",
        "s = {3,1,4,5,2,7}\n",
        "print(len(s))\n",
        "print(sum(s))\n",
        "print(min(s))\n",
        "print(max(s))\n",
        "print(sorted(s))"
      ],
      "metadata": {
        "colab": {
          "base_uri": "https://localhost:8080/"
        },
        "id": "yfa2r7VCKv2b",
        "outputId": "394b1e18-5b83-43f6-b711-03a6769fdcdf"
      },
      "execution_count": 79,
      "outputs": [
        {
          "output_type": "stream",
          "name": "stdout",
          "text": [
            "6\n",
            "22\n",
            "1\n",
            "7\n",
            "[1, 2, 3, 4, 5, 7]\n"
          ]
        }
      ]
    },
    {
      "cell_type": "code",
      "source": [
        "# intersection/intersection_update\n",
        "s1 = {1,2,3,4,5}\n",
        "s2 = {4,5,6,7,8}\n",
        "s1.intersection(s2)\n",
        "s1.intersection_update(s2)\n",
        "print(s1)\n",
        "print(s2)"
      ],
      "metadata": {
        "colab": {
          "base_uri": "https://localhost:8080/"
        },
        "id": "9wbF7kONNTBD",
        "outputId": "5489da16-09ae-4476-91a6-f279231e0568"
      },
      "execution_count": 80,
      "outputs": [
        {
          "output_type": "stream",
          "name": "stdout",
          "text": [
            "{4, 5}\n",
            "{4, 5, 6, 7, 8}\n"
          ]
        }
      ]
    },
    {
      "cell_type": "code",
      "source": [
        "# create frozenset\n",
        "fs1 = frozenset([1,2,3])\n",
        "fs2 = frozenset([3,4,5])\n",
        "fs1 | fs2"
      ],
      "metadata": {
        "colab": {
          "base_uri": "https://localhost:8080/"
        },
        "id": "FGVmJjx6Ne1O",
        "outputId": "c090d056-71ff-41c8-9d2f-eb8e7d3ab6cc"
      },
      "execution_count": 81,
      "outputs": [
        {
          "output_type": "execute_result",
          "data": {
            "text/plain": [
              "frozenset({1, 2, 3, 4, 5})"
            ]
          },
          "metadata": {},
          "execution_count": 81
        }
      ]
    },
    {
      "cell_type": "code",
      "source": [
        "# examples\n",
        "{i**2 for i in range(1,11) if i>5}"
      ],
      "metadata": {
        "colab": {
          "base_uri": "https://localhost:8080/"
        },
        "id": "O-DzC3IwNma2",
        "outputId": "7b3b984e-d6c3-4b17-f106-0d4574659098"
      },
      "execution_count": 82,
      "outputs": [
        {
          "output_type": "execute_result",
          "data": {
            "text/plain": [
              "{36, 49, 64, 81, 100}"
            ]
          },
          "metadata": {},
          "execution_count": 82
        }
      ]
    },
    {
      "cell_type": "code",
      "source": [
        "# empty\n",
        "d = {}\n",
        "print(d)\n",
        "#1D\n",
        "d1 = {'name':'xyz', 'Age':23, 'gender':'male'}\n",
        "print(d1)\n",
        "# with mixed keys\n",
        "d2 = {(2,2,3):1,'hello':'world'}\n",
        "print(d2)\n",
        "# 2D dictionary\n",
        "s = {\n",
        "'name':'ramesh',\n",
        "'college':'bit',\n",
        "'sem':4,\n",
        "'subjects':{\n",
        "'dsa':50,\n",
        "'maths':67,\n",
        "'english':34\n",
        "}\n",
        "}\n",
        "print(s)\n",
        "# using sequence and dict function\n",
        "d4 = dict([('name','xyz'),('age',23),(3,3)])\n",
        "print(d4)\n",
        "#mutable items keys\n",
        "d6 = {'name':'xyz', (1,2,3):2}\n",
        "print(d6)"
      ],
      "metadata": {
        "colab": {
          "base_uri": "https://localhost:8080/"
        },
        "id": "hdQnmc_7NqpU",
        "outputId": "f235c06b-7fd5-471b-9a5e-b35d3a17fd5b"
      },
      "execution_count": 83,
      "outputs": [
        {
          "output_type": "stream",
          "name": "stdout",
          "text": [
            "{}\n",
            "{'name': 'xyz', 'Age': 23, 'gender': 'male'}\n",
            "{(2, 2, 3): 1, 'hello': 'world'}\n",
            "{'name': 'ramesh', 'college': 'bit', 'sem': 4, 'subjects': {'dsa': 50, 'maths': 67, 'english': 34}}\n",
            "{'name': 'xyz', 'age': 23, 3: 3}\n",
            "{'name': 'xyz', (1, 2, 3): 2}\n"
          ]
        }
      ]
    },
    {
      "cell_type": "code",
      "source": [
        "my_dict = {'name': 'Jack', 'age': 26}\n",
        "my_dict['name'] # you have to write keys"
      ],
      "metadata": {
        "colab": {
          "base_uri": "https://localhost:8080/",
          "height": 35
        },
        "id": "BL22723hN6c-",
        "outputId": "4389a0de-3d1f-44d5-d5e1-40440305addc"
      },
      "execution_count": 84,
      "outputs": [
        {
          "output_type": "execute_result",
          "data": {
            "text/plain": [
              "'Jack'"
            ],
            "application/vnd.google.colaboratory.intrinsic+json": {
              "type": "string"
            }
          },
          "metadata": {},
          "execution_count": 84
        }
      ]
    },
    {
      "cell_type": "code",
      "source": [
        "d4['gender'] = 'male'\n",
        "print(d4)\n",
        "d4['weight'] = 70\n",
        "print(d4)"
      ],
      "metadata": {
        "colab": {
          "base_uri": "https://localhost:8080/"
        },
        "id": "rnQ0kkn2OGLE",
        "outputId": "d38abc3e-1b2f-45f6-f95f-e8ffe6099abf"
      },
      "execution_count": 85,
      "outputs": [
        {
          "output_type": "stream",
          "name": "stdout",
          "text": [
            "{'name': 'xyz', 'age': 23, 3: 3, 'gender': 'male'}\n",
            "{'name': 'xyz', 'age': 23, 3: 3, 'gender': 'male', 'weight': 70}\n"
          ]
        }
      ]
    },
    {
      "cell_type": "code",
      "source": [
        "print(s)"
      ],
      "metadata": {
        "colab": {
          "base_uri": "https://localhost:8080/"
        },
        "id": "PFpSzNSfONaA",
        "outputId": "4cd6f93c-44f3-4d85-a512-b6bb752e959e"
      },
      "execution_count": 86,
      "outputs": [
        {
          "output_type": "stream",
          "name": "stdout",
          "text": [
            "{'name': 'ramesh', 'college': 'bit', 'sem': 4, 'subjects': {'dsa': 50, 'maths': 67, 'english': 34}}\n"
          ]
        }
      ]
    },
    {
      "cell_type": "code",
      "source": [
        "s['subjects']['dsa'] = 80\n",
        "s"
      ],
      "metadata": {
        "colab": {
          "base_uri": "https://localhost:8080/"
        },
        "id": "M3QA73csORC0",
        "outputId": "ca3b1b41-619a-4650-fc66-b48c52f2c7a5"
      },
      "execution_count": 87,
      "outputs": [
        {
          "output_type": "execute_result",
          "data": {
            "text/plain": [
              "{'name': 'ramesh',\n",
              " 'college': 'bit',\n",
              " 'sem': 4,\n",
              " 'subjects': {'dsa': 80, 'maths': 67, 'english': 34}}"
            ]
          },
          "metadata": {},
          "execution_count": 87
        }
      ]
    },
    {
      "cell_type": "code",
      "source": [
        "# print 1st 10 numbers and their squares\n",
        "{i:i**2 for i in range(1,11)}"
      ],
      "metadata": {
        "colab": {
          "base_uri": "https://localhost:8080/"
        },
        "id": "sty9U62MOVWp",
        "outputId": "9d3d36af-223c-45f1-e338-c75a5549a848"
      },
      "execution_count": 88,
      "outputs": [
        {
          "output_type": "execute_result",
          "data": {
            "text/plain": [
              "{1: 1, 2: 4, 3: 9, 4: 16, 5: 25, 6: 36, 7: 49, 8: 64, 9: 81, 10: 100}"
            ]
          },
          "metadata": {},
          "execution_count": 88
        }
      ]
    },
    {
      "cell_type": "code",
      "source": [
        "distances = {'delhi':1000,'mumbai':2000,'bangalore':3000}\n",
        "print(distances.items())"
      ],
      "metadata": {
        "colab": {
          "base_uri": "https://localhost:8080/"
        },
        "id": "um1Abvb_OZIN",
        "outputId": "c1e763d0-22b6-4e56-ab88-9ecf9983f1d1"
      },
      "execution_count": 89,
      "outputs": [
        {
          "output_type": "stream",
          "name": "stdout",
          "text": [
            "dict_items([('delhi', 1000), ('mumbai', 2000), ('bangalore', 3000)])\n"
          ]
        }
      ]
    },
    {
      "cell_type": "code",
      "source": [
        "# using zip\n",
        "days = [\"Sunday\", \"Monday\",\"Tuesday\",\"Wednesday\",\"Thursday\",\"Friday\",\"Saturday\"]\n",
        "temp_C = [30.5,32.6,31.8,33.4,29.8,30.2,29.9]\n",
        "{i:j for (i,j) in zip(days,temp_C)}"
      ],
      "metadata": {
        "colab": {
          "base_uri": "https://localhost:8080/"
        },
        "id": "CN8rUBSbOkOI",
        "outputId": "6e19d4ee-c1c6-4a04-8496-89d614cec95e"
      },
      "execution_count": 90,
      "outputs": [
        {
          "output_type": "execute_result",
          "data": {
            "text/plain": [
              "{'Sunday': 30.5,\n",
              " 'Monday': 32.6,\n",
              " 'Tuesday': 31.8,\n",
              " 'Wednesday': 33.4,\n",
              " 'Thursday': 29.8,\n",
              " 'Friday': 30.2,\n",
              " 'Saturday': 29.9}"
            ]
          },
          "metadata": {},
          "execution_count": 90
        }
      ]
    },
    {
      "cell_type": "code",
      "source": [
        "# using if condition\n",
        "products = {'phone':10,'laptop':0,'charger':32,'tablet':0}\n",
        "{key:value for (key,value) in products.items() if value>0}"
      ],
      "metadata": {
        "colab": {
          "base_uri": "https://localhost:8080/"
        },
        "id": "-OUz8HcHOmRJ",
        "outputId": "ce7fb3cf-0e9f-497b-c542-4407c8e1893d"
      },
      "execution_count": 91,
      "outputs": [
        {
          "output_type": "execute_result",
          "data": {
            "text/plain": [
              "{'phone': 10, 'charger': 32}"
            ]
          },
          "metadata": {},
          "execution_count": 91
        }
      ]
    },
    {
      "cell_type": "code",
      "source": [
        "# Nested Comprehension\n",
        "# print tables of number from 2 to 4\n",
        "{i:{j:i*j for j in range(1,11)} for i in range(2,5)}"
      ],
      "metadata": {
        "colab": {
          "base_uri": "https://localhost:8080/"
        },
        "id": "Z6cNyStOOq6Y",
        "outputId": "5668dad8-15d0-4a38-f719-c778eb6b55f3"
      },
      "execution_count": 92,
      "outputs": [
        {
          "output_type": "execute_result",
          "data": {
            "text/plain": [
              "{2: {1: 2, 2: 4, 3: 6, 4: 8, 5: 10, 6: 12, 7: 14, 8: 16, 9: 18, 10: 20},\n",
              " 3: {1: 3, 2: 6, 3: 9, 4: 12, 5: 15, 6: 18, 7: 21, 8: 24, 9: 27, 10: 30},\n",
              " 4: {1: 4, 2: 8, 3: 12, 4: 16, 5: 20, 6: 24, 7: 28, 8: 32, 9: 36, 10: 40}}"
            ]
          },
          "metadata": {},
          "execution_count": 92
        }
      ]
    },
    {
      "cell_type": "code",
      "source": [
        "# Python3 program to\n",
        "# demonstrate defining\n",
        "# a class\n",
        "class Dog:\n",
        "  pass"
      ],
      "metadata": {
        "id": "EG6BOR44OtEQ"
      },
      "execution_count": 3,
      "outputs": []
    },
    {
      "cell_type": "code",
      "source": [
        "obj = Dog()"
      ],
      "metadata": {
        "id": "ZKgkOTk4YcDb"
      },
      "execution_count": 4,
      "outputs": []
    },
    {
      "cell_type": "code",
      "source": [
        "class mynumber:\n",
        "  def __init__(self,value):\n",
        "    self.value = value\n",
        "  def print_value(self):\n",
        "    print(self.value)\n",
        "obj1 = mynumber(10)\n",
        "obj1.print_value()"
      ],
      "metadata": {
        "colab": {
          "base_uri": "https://localhost:8080/"
        },
        "id": "HK-xgtQDYeMa",
        "outputId": "b5635a04-cc99-4fe5-a9b2-8d6c2d75843e"
      },
      "execution_count": 5,
      "outputs": [
        {
          "output_type": "stream",
          "name": "stdout",
          "text": [
            "10\n"
          ]
        }
      ]
    },
    {
      "cell_type": "code",
      "source": [
        "# __init__\n",
        "class Subject:\n",
        "  def __init__(self, attr1, attr2):\n",
        "    self.attr1 = attr1\n",
        "    self.attr2 = attr2\n",
        "obj = Subject('Maths','English')\n",
        "print(obj.attr1)\n",
        "print(obj.attr2)"
      ],
      "metadata": {
        "colab": {
          "base_uri": "https://localhost:8080/"
        },
        "id": "yZ_C3MC2ZO6L",
        "outputId": "477b2630-7e64-4f13-bf29-8ab4484d04a6"
      },
      "execution_count": 6,
      "outputs": [
        {
          "output_type": "stream",
          "name": "stdout",
          "text": [
            "Maths\n",
            "English\n"
          ]
        }
      ]
    },
    {
      "cell_type": "code",
      "source": [
        "class Person:\n",
        "  def __init__(self, name, age):\n",
        "    self.name = name\n",
        "    self.age = age\n",
        "  def __str__(self):\n",
        "    return f\"{self.name}({self.age} years old)\"\n",
        "p1 = Person(\"John\", 36)\n",
        "print(p1.name)\n",
        "print(p1.age)\n",
        "print(p1)\n",
        "print(str(p1))"
      ],
      "metadata": {
        "colab": {
          "base_uri": "https://localhost:8080/"
        },
        "id": "JZKU0wcGZ389",
        "outputId": "ea99fce4-7d8e-44f7-abfd-ded1ec511331"
      },
      "execution_count": 9,
      "outputs": [
        {
          "output_type": "stream",
          "name": "stdout",
          "text": [
            "John\n",
            "36\n",
            "John(36 years old)\n",
            "John(36 years old)\n"
          ]
        }
      ]
    },
    {
      "cell_type": "code",
      "source": [
        "class Myclass:\n",
        "  def __init__(self):\n",
        "    self.public_attribute = 55\n",
        "    self._protected_attribute = 'Hello'\n",
        "    self.__private_attribute = 'Wprld'\n",
        "  def public_method(self):\n",
        "    print(\"This is a public method\")\n",
        "  def _protected_method(self):\n",
        "    print(\"This is a protected method\")\n",
        "  def __private_method(self):\n",
        "    print(\"This is a private method\")"
      ],
      "metadata": {
        "id": "LZaHwvz0dCM0"
      },
      "execution_count": 10,
      "outputs": []
    },
    {
      "cell_type": "code",
      "source": [
        "obj = Myclass()\n",
        "print(obj.public_attribute)\n",
        "print(obj.public_method())"
      ],
      "metadata": {
        "colab": {
          "base_uri": "https://localhost:8080/"
        },
        "id": "wLFsEszoewkM",
        "outputId": "51e5f46c-363b-4b12-b7e4-52e01d8ced1e"
      },
      "execution_count": 11,
      "outputs": [
        {
          "output_type": "stream",
          "name": "stdout",
          "text": [
            "55\n",
            "This is a public method\n",
            "None\n"
          ]
        }
      ]
    },
    {
      "cell_type": "code",
      "source": [
        "# so now we try for Protected attribute\n",
        "print(obj._protected_attribute)\n",
        "print(obj._protected_method())"
      ],
      "metadata": {
        "colab": {
          "base_uri": "https://localhost:8080/"
        },
        "id": "VhxGS7DsfH--",
        "outputId": "fbc66e80-8c2a-4093-ebb9-b7d125985f87"
      },
      "execution_count": 12,
      "outputs": [
        {
          "output_type": "stream",
          "name": "stdout",
          "text": [
            "Hello\n",
            "This is a protected method\n",
            "None\n"
          ]
        }
      ]
    },
    {
      "cell_type": "code",
      "source": [
        "# Accessing private attributes and methods directly will result in an error:\n",
        "print(obj.__private_attribute) # Raises an AttributeError\n",
        "print(obj.__private_method()) # Raises an AttributeError"
      ],
      "metadata": {
        "colab": {
          "base_uri": "https://localhost:8080/",
          "height": 176
        },
        "id": "46lgP6safPYd",
        "outputId": "26c21f22-756e-44c5-9fe9-02b7890451a2"
      },
      "execution_count": 13,
      "outputs": [
        {
          "output_type": "error",
          "ename": "AttributeError",
          "evalue": "'Myclass' object has no attribute '__private_attribute'",
          "traceback": [
            "\u001b[0;31m---------------------------------------------------------------------------\u001b[0m",
            "\u001b[0;31mAttributeError\u001b[0m                            Traceback (most recent call last)",
            "\u001b[0;32m<ipython-input-13-2f57ee674404>\u001b[0m in \u001b[0;36m<cell line: 0>\u001b[0;34m()\u001b[0m\n\u001b[1;32m      1\u001b[0m \u001b[0;31m# Accessing private attributes and methods directly will result in an error:\u001b[0m\u001b[0;34m\u001b[0m\u001b[0;34m\u001b[0m\u001b[0m\n\u001b[0;32m----> 2\u001b[0;31m \u001b[0mprint\u001b[0m\u001b[0;34m(\u001b[0m\u001b[0mobj\u001b[0m\u001b[0;34m.\u001b[0m\u001b[0m__private_attribute\u001b[0m\u001b[0;34m)\u001b[0m \u001b[0;31m# Raises an AttributeError\u001b[0m\u001b[0;34m\u001b[0m\u001b[0;34m\u001b[0m\u001b[0m\n\u001b[0m\u001b[1;32m      3\u001b[0m \u001b[0mprint\u001b[0m\u001b[0;34m(\u001b[0m\u001b[0mobj\u001b[0m\u001b[0;34m.\u001b[0m\u001b[0m__private_method\u001b[0m\u001b[0;34m(\u001b[0m\u001b[0;34m)\u001b[0m\u001b[0;34m)\u001b[0m \u001b[0;31m# Raises an AttributeError\u001b[0m\u001b[0;34m\u001b[0m\u001b[0;34m\u001b[0m\u001b[0m\n",
            "\u001b[0;31mAttributeError\u001b[0m: 'Myclass' object has no attribute '__private_attribute'"
          ]
        }
      ]
    },
    {
      "cell_type": "code",
      "source": [
        "class Professor:\n",
        "  def __init__(self, name):\n",
        "    self.name = name\n",
        "class Department:\n",
        "  def __init__(self, name):\n",
        "    self.name = name\n",
        "    self.professors = [] # Aggregation: Department contains Professor objects\n",
        "class University:\n",
        "  def __init__(self, name):\n",
        "    self.name = name\n",
        "    self.departments = [] # Aggregation: University contains Department object\n",
        "# Creating objects\n",
        "professor1 = Professor(\"John Doe\")\n",
        "professor2 = Professor(\"Jane Smith\")\n",
        "department1 = Department(\"Computer Science\")\n",
        "department1.professors.append(professor1)\n",
        "department1.professors.append(professor2)\n",
        "university = University(\"ABC University\")\n",
        "university.departments.append(department1)"
      ],
      "metadata": {
        "id": "QMovaVZMfSIo"
      },
      "execution_count": 14,
      "outputs": []
    },
    {
      "cell_type": "code",
      "source": [
        "class Animal:\n",
        "  def __init__(self, name):\n",
        "    self.name = name\n",
        "  def make_sound(self):\n",
        "    pass\n",
        "class Dog(Animal):\n",
        "  def speak(self):\n",
        "    return f\"{self.name} says Woof!\"\n",
        "class Cat(Animal):\n",
        "  def speak(self):\n",
        "    return f\"{self.name} says Meow!\"\n",
        "# Creating objects\n",
        "dog = Dog(\"Buddy\")\n",
        "cat = Cat(\"Whiskers\")\n",
        "# Calling the speak method on objects\n",
        "print(dog.speak())\n",
        "print(cat.speak())"
      ],
      "metadata": {
        "colab": {
          "base_uri": "https://localhost:8080/"
        },
        "id": "X0BG5Bv4f2NV",
        "outputId": "11d40424-6a07-40f7-d50d-e1d796b5b44b"
      },
      "execution_count": 15,
      "outputs": [
        {
          "output_type": "stream",
          "name": "stdout",
          "text": [
            "Buddy says Woof!\n",
            "Whiskers says Meow!\n"
          ]
        }
      ]
    },
    {
      "cell_type": "code",
      "source": [],
      "metadata": {
        "id": "IaFUhpqPgbhz"
      },
      "execution_count": null,
      "outputs": []
    }
  ]
}